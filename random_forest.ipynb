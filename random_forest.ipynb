{
 "cells": [
  {
   "cell_type": "code",
   "execution_count": 277,
   "metadata": {},
   "outputs": [
    {
     "name": "stdout",
     "output_type": "stream",
     "text": [
      "(30718, 10)\n",
      "   age         workclass  education-num         marital-status  \\\n",
      "0   39         State-gov             13          Never-married   \n",
      "1   50  Self-emp-not-inc             13     Married-civ-spouse   \n",
      "2   38           Private              9               Divorced   \n",
      "3   53           Private              7     Married-civ-spouse   \n",
      "4   28           Private             13     Married-civ-spouse   \n",
      "5   37           Private             14     Married-civ-spouse   \n",
      "6   49           Private              5  Married-spouse-absent   \n",
      "7   52  Self-emp-not-inc              9     Married-civ-spouse   \n",
      "8   31           Private             14          Never-married   \n",
      "9   42           Private             13     Married-civ-spouse   \n",
      "\n",
      "          occupation   relationship   race     sex  hours-per-week  income  \n",
      "0       Adm-clerical  Not-in-family  White    Male              40       0  \n",
      "1    Exec-managerial        Husband  White    Male              13       0  \n",
      "2  Handlers-cleaners  Not-in-family  White    Male              40       0  \n",
      "3  Handlers-cleaners        Husband  Black    Male              40       0  \n",
      "4     Prof-specialty           Wife  Black  Female              40       0  \n",
      "5    Exec-managerial           Wife  White  Female              40       0  \n",
      "6      Other-service  Not-in-family  Black  Female              16       0  \n",
      "7    Exec-managerial        Husband  White    Male              45       1  \n",
      "8     Prof-specialty  Not-in-family  White  Female              50       1  \n",
      "9    Exec-managerial        Husband  White    Male              40       1  \n"
     ]
    },
    {
     "name": "stderr",
     "output_type": "stream",
     "text": [
      "/Users/brayden/anaconda3/lib/python3.8/site-packages/pandas/core/ops/array_ops.py:253: FutureWarning: elementwise comparison failed; returning scalar instead, but in the future will perform elementwise comparison\n",
      "  res_values = method(rvalues)\n"
     ]
    }
   ],
   "source": [
    "import pandas as pd\n",
    "import matplotlib.pyplot as plt\n",
    "import seaborn as sns\n",
    "import numpy as np\n",
    "\n",
    "colTitles = ['age','workclass','fnlwgt','education','education-num','marital-status','occupation','relationship',\n",
    "             'race','sex','capital-gain','capital-loss','hours-per-week','native-country','income']\n",
    "\n",
    "df = pd.read_csv('adult.data', delimiter=',', names=colTitles)\n",
    "\n",
    "# 29170 rows in 32561 rows have native-country United-States, so drop this column too\n",
    "df = df.drop(columns=['fnlwgt', 'education', 'capital-gain','capital-loss', 'native-country'])\n",
    "\n",
    "\n",
    "# remove all spaces and remove rows that contains ?\n",
    "for i in range(10):\n",
    "    if i not in [0,2,8]:\n",
    "        df.iloc[:,i] = df.iloc[:,i].str.strip()\n",
    "    df = df[df.iloc[:,i] != '?']\n",
    "    \n",
    "df['income'] = (df['income']=='>50K').astype(int)\n",
    "    \n",
    "print(df.shape)\n",
    "print(df.head(10))"
   ]
  },
  {
   "cell_type": "code",
   "execution_count": 278,
   "metadata": {},
   "outputs": [
    {
     "data": {
      "text/plain": [
       "Married-civ-spouse       14339\n",
       "Never-married             9912\n",
       "Divorced                  4258\n",
       "Separated                  959\n",
       "Widowed                    840\n",
       "Married-spouse-absent      389\n",
       "Married-AF-spouse           21\n",
       "Name: marital-status, dtype: int64"
      ]
     },
     "execution_count": 278,
     "metadata": {},
     "output_type": "execute_result"
    }
   ],
   "source": [
    "df['marital-status'].value_counts()\n",
    "    "
   ]
  },
  {
   "cell_type": "code",
   "execution_count": 279,
   "metadata": {},
   "outputs": [
    {
     "name": "stdout",
     "output_type": "stream",
     "text": [
      "(32444, 45)\n",
      "    age  education-num  hours-per-week  income  workclass_Federal-gov  \\\n",
      "0  39.0           13.0            40.0     0.0                    0.0   \n",
      "1  50.0           13.0            13.0     0.0                    0.0   \n",
      "2  38.0            9.0            40.0     0.0                    0.0   \n",
      "3  53.0            7.0            40.0     0.0                    0.0   \n",
      "4  28.0           13.0            40.0     0.0                    0.0   \n",
      "\n",
      "   workclass_Local-gov  workclass_Private  workclass_Self-emp-inc  \\\n",
      "0                  0.0                0.0                     0.0   \n",
      "1                  0.0                0.0                     0.0   \n",
      "2                  0.0                1.0                     0.0   \n",
      "3                  0.0                1.0                     0.0   \n",
      "4                  0.0                1.0                     0.0   \n",
      "\n",
      "   workclass_Self-emp-not-inc  workclass_State-gov  ...  \\\n",
      "0                         0.0                  1.0  ...   \n",
      "1                         1.0                  0.0  ...   \n",
      "2                         0.0                  0.0  ...   \n",
      "3                         0.0                  0.0  ...   \n",
      "4                         0.0                  0.0  ...   \n",
      "\n",
      "   relationship_Own-child  relationship_Unmarried  relationship_Wife  \\\n",
      "0                     0.0                     0.0                0.0   \n",
      "1                     0.0                     0.0                0.0   \n",
      "2                     0.0                     0.0                0.0   \n",
      "3                     0.0                     0.0                0.0   \n",
      "4                     0.0                     0.0                1.0   \n",
      "\n",
      "   race_Amer-Indian-Eskimo  race_Asian-Pac-Islander  race_Black  race_Other  \\\n",
      "0                      0.0                      0.0         0.0         0.0   \n",
      "1                      0.0                      0.0         0.0         0.0   \n",
      "2                      0.0                      0.0         0.0         0.0   \n",
      "3                      0.0                      0.0         1.0         0.0   \n",
      "4                      0.0                      0.0         1.0         0.0   \n",
      "\n",
      "   race_White  sex_Female  sex_Male  \n",
      "0         1.0         0.0       1.0  \n",
      "1         1.0         0.0       1.0  \n",
      "2         1.0         0.0       1.0  \n",
      "3         0.0         0.0       1.0  \n",
      "4         0.0         1.0       0.0  \n",
      "\n",
      "[5 rows x 45 columns]\n"
     ]
    }
   ],
   "source": [
    "from sklearn.preprocessing import OneHotEncoder\n",
    "\n",
    "    \n",
    "category_cols = ['workclass', 'marital-status', 'occupation', 'relationship', 'race', 'sex']\n",
    "# category_cols = ['workclass']\n",
    "\n",
    "encoder=OneHotEncoder(sparse=False)\n",
    "\n",
    "onehot_res = []\n",
    "for name in category_cols:\n",
    "    df_encoded = pd.DataFrame (encoder.fit_transform(df[[name]]))\n",
    "    df_encoded.columns = encoder.get_feature_names([name])\n",
    "    df.drop([name], axis=1, inplace=True)\n",
    "    onehot_res.append(df_encoded)\n",
    "    \n",
    "for i in onehot_res:\n",
    "    df = pd.concat([df, i], axis=1)\n",
    "    \n",
    "# df.astype(int)\n",
    "    \n",
    "print(df.shape)\n",
    "print(df.head(5))"
   ]
  },
  {
   "cell_type": "code",
   "execution_count": 280,
   "metadata": {},
   "outputs": [
    {
     "name": "stdout",
     "output_type": "stream",
     "text": [
      "workclass_Federal-gov  :  0.4039482463165319\n",
      "workclass_Local-gov  :  0.35002949950176654\n",
      "workclass_Private  :  1.3213192368174864\n",
      "workclass_Self-emp-inc  :  0.17060805601135148\n",
      "workclass_Self-emp-not-inc  :  0.5490426829042039\n",
      "workclass_State-gov  :  0.7288624594503457\n",
      "workclass_Without-pay  :  0.193640782494063\n",
      "marital-status_Divorced  :  0.06382053799481895\n",
      "marital-status_Married-AF-spouse  :  1.0065307568538422\n",
      "marital-status_Married-civ-spouse  :  0.07591954063394853\n",
      "marital-status_Married-spouse-absent  :  0.07398891825884407\n",
      "marital-status_Never-married  :  3.420282983773189\n",
      "marital-status_Separated  :  2.5220784739492847\n",
      "marital-status_Widowed  :  1.8948936723820637\n",
      "occupation_Adm-clerical  :  2.466260340146723\n",
      "occupation_Armed-Forces  :  0.009195564626084618\n",
      "occupation_Craft-repair  :  0.3249819554080963\n",
      "occupation_Exec-managerial  :  1.4216877814210607\n",
      "occupation_Farming-fishing  :  0.41521799688612937\n",
      "occupation_Handlers-cleaners  :  0.0037836653024787372\n",
      "occupation_Machine-op-inspct  :  1.8815898913915035\n",
      "occupation_Other-service  :  1.1445991669447015\n",
      "occupation_Priv-house-serv  :  0.12984808867264835\n",
      "occupation_Prof-specialty  :  0.23265777154649317\n",
      "occupation_Protective-serv  :  4.149328516227976\n",
      "occupation_Sales  :  1.4270999650424137\n",
      "occupation_Tech-support  :  0.277658819104398\n",
      "occupation_Transport-moving  :  0.14945410185411917\n",
      "relationship_Husband  :  0.018386101771643258\n",
      "relationship_Not-in-family  :  2.7558695921223704\n",
      "relationship_Other-relative  :  0.0012572971527601365\n",
      "relationship_Own-child  :  0.03009705767922804\n",
      "relationship_Unmarried  :  0.9552148965120062\n",
      "relationship_Wife  :  0.4150721631020192\n",
      "race_Amer-Indian-Eskimo  :  1.4230756259679767\n",
      "race_Asian-Pac-Islander  :  0.39627686156287145\n",
      "race_Black  :  1.354706664085317e-05\n",
      "race_Other  :  0.6828005258799519\n",
      "race_White  :  1.4724514252847514\n",
      "sex_Female  :  0.1004055273686287\n",
      "sex_Male  :  0.605410180731339\n"
     ]
    }
   ],
   "source": [
    "from sklearn.feature_selection import SelectKBest\n",
    "from sklearn.feature_selection import chi2\n",
    "\n",
    "df.replace([np.inf, -np.inf], np.nan, inplace=True)\n",
    "df.fillna(0, inplace=True)\n",
    "\n",
    "\n",
    "X = df.drop(['income', 'age', 'education-num', 'hours-per-week'], axis = 1)\n",
    "features = X.columns.values.tolist()\n",
    "\n",
    "y = df[['income']]\n",
    "\n",
    "fs = SelectKBest(score_func=chi2, k='all')\n",
    "fs.fit(X, y)\n",
    "\n",
    "for i in range(len(fs.scores_)):\n",
    "    print(features[i], ' : ', fs.scores_[i])\n"
   ]
  },
  {
   "cell_type": "code",
   "execution_count": 281,
   "metadata": {},
   "outputs": [
    {
     "data": {
      "image/png": "[encoded data removed]",
      "text/plain": [
       "<Figure size 960x960 with 1 Axes>"
      ]
     },
     "metadata": {
      "needs_background": "light"
     },
     "output_type": "display_data"
    }
   ],
   "source": [
    "from matplotlib import pyplot\n",
    "from matplotlib.pyplot import figure\n",
    "\n",
    "\n",
    "figure(figsize=(12, 12), dpi=80)\n",
    "\n",
    "\n",
    "plt.bar(range(len(features)), fs.scores_, align='center')\n",
    "# plt.xticks(range(len(features)), features, size='small')\n",
    "plt.show()\n"
   ]
  },
  {
   "cell_type": "code",
   "execution_count": 285,
   "metadata": {},
   "outputs": [
    {
     "name": "stdout",
     "output_type": "stream",
     "text": [
      "<class 'pandas.core.frame.DataFrame'>\n",
      "Int64Index: 32444 entries, 0 to 32560\n",
      "Data columns (total 45 columns):\n",
      " #   Column                                Non-Null Count  Dtype  \n",
      "---  ------                                --------------  -----  \n",
      " 0   age                                   32444 non-null  float64\n",
      " 1   education-num                         32444 non-null  float64\n",
      " 2   hours-per-week                        32444 non-null  float64\n",
      " 3   income                                32444 non-null  float64\n",
      " 4   workclass_Federal-gov                 32444 non-null  float64\n",
      " 5   workclass_Local-gov                   32444 non-null  float64\n",
      " 6   workclass_Private                     32444 non-null  float64\n",
      " 7   workclass_Self-emp-inc                32444 non-null  float64\n",
      " 8   workclass_Self-emp-not-inc            32444 non-null  float64\n",
      " 9   workclass_State-gov                   32444 non-null  float64\n",
      " 10  workclass_Without-pay                 32444 non-null  float64\n",
      " 11  marital-status_Divorced               32444 non-null  float64\n",
      " 12  marital-status_Married-AF-spouse      32444 non-null  float64\n",
      " 13  marital-status_Married-civ-spouse     32444 non-null  float64\n",
      " 14  marital-status_Married-spouse-absent  32444 non-null  float64\n",
      " 15  marital-status_Never-married          32444 non-null  float64\n",
      " 16  marital-status_Separated              32444 non-null  float64\n",
      " 17  marital-status_Widowed                32444 non-null  float64\n",
      " 18  occupation_Adm-clerical               32444 non-null  float64\n",
      " 19  occupation_Armed-Forces               32444 non-null  float64\n",
      " 20  occupation_Craft-repair               32444 non-null  float64\n",
      " 21  occupation_Exec-managerial            32444 non-null  float64\n",
      " 22  occupation_Farming-fishing            32444 non-null  float64\n",
      " 23  occupation_Handlers-cleaners          32444 non-null  float64\n",
      " 24  occupation_Machine-op-inspct          32444 non-null  float64\n",
      " 25  occupation_Other-service              32444 non-null  float64\n",
      " 26  occupation_Priv-house-serv            32444 non-null  float64\n",
      " 27  occupation_Prof-specialty             32444 non-null  float64\n",
      " 28  occupation_Protective-serv            32444 non-null  float64\n",
      " 29  occupation_Sales                      32444 non-null  float64\n",
      " 30  occupation_Tech-support               32444 non-null  float64\n",
      " 31  occupation_Transport-moving           32444 non-null  float64\n",
      " 32  relationship_Husband                  32444 non-null  float64\n",
      " 33  relationship_Not-in-family            32444 non-null  float64\n",
      " 34  relationship_Other-relative           32444 non-null  float64\n",
      " 35  relationship_Own-child                32444 non-null  float64\n",
      " 36  relationship_Unmarried                32444 non-null  float64\n",
      " 37  relationship_Wife                     32444 non-null  float64\n",
      " 38  race_Amer-Indian-Eskimo               32444 non-null  float64\n",
      " 39  race_Asian-Pac-Islander               32444 non-null  float64\n",
      " 40  race_Black                            32444 non-null  float64\n",
      " 41  race_Other                            32444 non-null  float64\n",
      " 42  race_White                            32444 non-null  float64\n",
      " 43  sex_Female                            32444 non-null  float64\n",
      " 44  sex_Male                              32444 non-null  float64\n",
      "dtypes: float64(45)\n",
      "memory usage: 12.6 MB\n",
      "None\n"
     ]
    }
   ],
   "source": [
    "from sklearn.preprocessing import MinMaxScaler\n",
    "from sklearn.compose import ColumnTransformer\n",
    "from sklearn.preprocessing import OneHotEncoder\n",
    "\n",
    "print(df.info())\n",
    "X = df.drop(['income'], axis = 1)\n",
    "y = df[['income']]\n",
    "X = (X-X.min())/(X.max()-X.min())"
   ]
  },
  {
   "cell_type": "markdown",
   "metadata": {},
   "source": [
    "# Random Forest Classifier"
   ]
  },
  {
   "cell_type": "code",
   "execution_count": 297,
   "metadata": {},
   "outputs": [],
   "source": [
    "# Fit Random forest model\n",
    "# Tune hyperparameters using grid search cv\n",
    "import numpy as np\n",
    "from sklearn.model_selection import GridSearchCV\n",
    "from sklearn.ensemble import RandomForestClassifier\n",
    "from sklearn.model_selection import train_test_split\n",
    "from sklearn.metrics import f1_score\n",
    "from sklearn.metrics import roc_auc_score\n",
    "from sklearn.metrics import recall_score\n",
    "from sklearn.metrics import precision_score\n",
    "from sklearn.metrics import accuracy_score\n",
    "from sklearn.metrics import confusion_matrix\n",
    "from sklearn.model_selection import StratifiedKFold\n",
    "import warnings\n",
    "\n",
    "warnings.filterwarnings('ignore')\n",
    "\n",
    "\n",
    "def FitRandomForestClassifier(X,y,col_name):\n",
    "    skf = StratifiedKFold(random_state=0, shuffle=True)\n",
    "    performance_dict = {'f1_score':0, 'roc_auc_score':0, 'recall_score':0, 'precision_score':0, 'accuracy_score':0, 'confusion_matrix':np.asarray([[0,0],[0,0]])}\n",
    "    parameters = {'criterion':[\"gini\", \"entropy\"],'max_depth':[1,2,3,4,5,6], 'n_estimators':[50,100,200,300]}\n",
    "    fold=1\n",
    "    feature_importance = []\n",
    "    for train_index, test_index in skf.split(X, y):\n",
    "        X_train_s, X_test_s = X.iloc[train_index], X.iloc[test_index]\n",
    "        y_train_s, y_test_s = y.iloc[train_index], y.iloc[test_index]\n",
    "        RFClf = RandomForestClassifier(random_state=0, max_features=0.7)\n",
    "        clf = GridSearchCV(RFClf, parameters, scoring='f1')\n",
    "        clf.fit(X_train_s,y_train_s)\n",
    "        print(\"Fold \"+str(fold)+\": F1 score with paramaters \"+ str(clf.best_params_)+\" : \"+str(f1_score(y_test_s, clf.best_estimator_.predict(X_test_s))))\n",
    "        fold+=1\n",
    "        performance_dict['f1_score'] += f1_score(y_test_s, clf.best_estimator_.predict(X_test_s))/5\n",
    "        performance_dict['roc_auc_score'] += roc_auc_score(y_test_s, clf.best_estimator_.predict(X_test_s))/5\n",
    "        performance_dict['recall_score'] += recall_score(y_test_s, clf.best_estimator_.predict(X_test_s))/5\n",
    "        performance_dict['precision_score'] += precision_score(y_test_s, clf.best_estimator_.predict(X_test_s))/5\n",
    "        performance_dict['accuracy_score'] += accuracy_score(y_test_s, clf.best_estimator_.predict(X_test_s))/5\n",
    "        performance_dict['confusion_matrix'] += confusion_matrix(y_test_s, clf.best_estimator_.predict(X_test_s))\n",
    "        feature_importance.append(clf.best_estimator_.feature_importances_)\n",
    "    print(\"\\nMean F1 score: \"+str(performance_dict['f1_score']))\n",
    "    print(\"Mean ROC AUC score: \"+str(performance_dict['roc_auc_score']))\n",
    "    print(\"Mean Recall score: \"+str(performance_dict['recall_score']))\n",
    "    print(\"Mean Precision score: \"+str(performance_dict['precision_score'])+\"\\n\")\n",
    "#     report_chart[col_name]['Random Forest Classifier'] = performance_dict\n",
    "    feature_importance = np.mean(feature_importance, axis=0)\n",
    "    feature_dict = {}\n",
    "    print(\"TOP 10 FEATURES: \")\n",
    "    count=0\n",
    "    for i in range(len(feature_importance)):\n",
    "        feature_dict[X.columns[i]] = feature_importance[i]\n",
    "    feature_dict = {k: v for k, v in sorted(feature_dict.items(), key=lambda item: abs(item[1]), reverse=True)}\n",
    "    for key, value in feature_dict.items():\n",
    "        print(key+\" : \"+str(value))\n",
    "        count+=1\n",
    "        if count==10:\n",
    "            break\n",
    "    return feature_dict"
   ]
  },
  {
   "cell_type": "code",
   "execution_count": null,
   "metadata": {},
   "outputs": [
    {
     "name": "stdout",
     "output_type": "stream",
     "text": [
      "Fold 1: F1 score with paramaters {'criterion': 'entropy', 'max_depth': 5, 'n_estimators': 50} : 0.48342764753435735\n",
      "Fold 2: F1 score with paramaters {'criterion': 'entropy', 'max_depth': 6, 'n_estimators': 100} : 0.4949290060851927\n"
     ]
    }
   ],
   "source": [
    "feature_dict_RF = FitRandomForestClassifier(X,y,'default_features')"
   ]
  },
  {
   "cell_type": "code",
   "execution_count": null,
   "metadata": {},
   "outputs": [],
   "source": []
  }
 ],
 "metadata": {
  "kernelspec": {
   "display_name": "Python 3",
   "language": "python",
   "name": "python3"
  }
 },
 "nbformat": 4,
 "nbformat_minor": 5
}
