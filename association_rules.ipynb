{
  "nbformat": 4,
  "nbformat_minor": 0,
  "metadata": {
    "colab": {
      "name": "association_rules.ipynb",
      "provenance": [],
      "collapsed_sections": []
    },
    "kernelspec": {
      "name": "python3",
      "display_name": "Python 3"
    },
    "language_info": {
      "name": "python"
    }
  },
  "cells": [
    {
      "cell_type": "code",
      "metadata": {
        "colab": {
          "base_uri": "https://localhost:8080/"
        },
        "id": "dwDZPTOuDDD7",
        "outputId": "ea7b1799-bafb-4056-c1ab-b00943af6b1d"
      },
      "source": [
        "import pandas as pd\n",
        "# reading csv files\n",
        "colTitles = ['age','workclass','fnlwgt','education','education-num'\\\n",
        "             ,'marital-status','occupation','relationship','race','sex'\\\n",
        "             ,'capital-gain','capital-loss','hours-per-week','native-country','income']\n",
        "data =  pd.read_csv('adult.data', sep=\",\",names=colTitles)\n",
        "data = data.drop(columns=['fnlwgt','education-num','relationship','capital-gain','capital-loss'])\n",
        "print(data)"
      ],
      "execution_count": 1,
      "outputs": [
        {
          "output_type": "stream",
          "name": "stdout",
          "text": [
            "       age          workclass  ...  native-country  income\n",
            "0       39          State-gov  ...   United-States   <=50K\n",
            "1       50   Self-emp-not-inc  ...   United-States   <=50K\n",
            "2       38            Private  ...   United-States   <=50K\n",
            "3       53            Private  ...   United-States   <=50K\n",
            "4       28            Private  ...            Cuba   <=50K\n",
            "...    ...                ...  ...             ...     ...\n",
            "32556   27            Private  ...   United-States   <=50K\n",
            "32557   40            Private  ...   United-States    >50K\n",
            "32558   58            Private  ...   United-States   <=50K\n",
            "32559   22            Private  ...   United-States   <=50K\n",
            "32560   52       Self-emp-inc  ...   United-States    >50K\n",
            "\n",
            "[32561 rows x 10 columns]\n"
          ]
        }
      ]
    },
    {
      "cell_type": "code",
      "metadata": {
        "colab": {
          "base_uri": "https://localhost:8080/"
        },
        "id": "ibGL5nNUDnun",
        "outputId": "bafd3db4-b43d-4646-8b41-3eb1d65ead0d"
      },
      "source": [
        "rows = data.shape[0]\n",
        "for row in range(rows):\n",
        "  # age: 5 years per class\n",
        "  data.iloc[row,0] = data.iloc[row,0]//5\n",
        "  # hours-per-week: 10 hrs per class\n",
        "  data.iloc[row,7] = data.iloc[row,7]//10\n",
        "  # income: 1: >50k, 0:<= 50k\n",
        "  if data.iloc[row,9] == ' <=50K':\n",
        "    data.iloc[row,9] = 0\n",
        "  else:\n",
        "    data.iloc[row,9] = 1\n",
        "print(data)"
      ],
      "execution_count": 2,
      "outputs": [
        {
          "output_type": "stream",
          "name": "stdout",
          "text": [
            "       age          workclass  ...  native-country income\n",
            "0        7          State-gov  ...   United-States      0\n",
            "1       10   Self-emp-not-inc  ...   United-States      0\n",
            "2        7            Private  ...   United-States      0\n",
            "3       10            Private  ...   United-States      0\n",
            "4        5            Private  ...            Cuba      0\n",
            "...    ...                ...  ...             ...    ...\n",
            "32556    5            Private  ...   United-States      0\n",
            "32557    8            Private  ...   United-States      1\n",
            "32558   11            Private  ...   United-States      0\n",
            "32559    4            Private  ...   United-States      0\n",
            "32560   10       Self-emp-inc  ...   United-States      1\n",
            "\n",
            "[32561 rows x 10 columns]\n"
          ]
        }
      ]
    },
    {
      "cell_type": "code",
      "metadata": {
        "colab": {
          "base_uri": "https://localhost:8080/"
        },
        "id": "-erxktJvU3HS",
        "outputId": "efc18d96-dcc0-480b-d1c0-e88cba108622"
      },
      "source": [
        "! pip install apyori\n",
        "import numpy as np\n",
        "import matplotlib.pyplot as plt\n",
        "from apyori import apriori\n"
      ],
      "execution_count": 3,
      "outputs": [
        {
          "output_type": "stream",
          "name": "stdout",
          "text": [
            "Collecting apyori\n",
            "  Downloading apyori-1.1.2.tar.gz (8.6 kB)\n",
            "Building wheels for collected packages: apyori\n",
            "  Building wheel for apyori (setup.py) ... \u001b[?25l\u001b[?25hdone\n",
            "  Created wheel for apyori: filename=apyori-1.1.2-py3-none-any.whl size=5974 sha256=848e32f361c039bda922265796e6bda757bf4e6f880dbf68a17d0f2cadcd099e\n",
            "  Stored in directory: /root/.cache/pip/wheels/cb/f6/e1/57973c631d27efd1a2f375bd6a83b2a616c4021f24aab84080\n",
            "Successfully built apyori\n",
            "Installing collected packages: apyori\n",
            "Successfully installed apyori-1.1.2\n"
          ]
        }
      ]
    },
    {
      "cell_type": "code",
      "metadata": {
        "colab": {
          "base_uri": "https://localhost:8080/"
        },
        "id": "DcSzdIDUGdzL",
        "outputId": "0b77bab0-8658-41c4-801b-a5a8f8767466"
      },
      "source": [
        "rows = data.shape[0]\n",
        "cols = data.shape[1]\n",
        "attributes = list(data.columns)\n",
        "dataList = []\n",
        "for row in range(rows):\n",
        "  oneRow = []\n",
        "  for col in range(cols):\n",
        "    oneRow.append(attributes[col]+':'+str(data.iloc[row,col]))\n",
        "  dataList.append(oneRow)\n",
        "print(dataList[0:10])"
      ],
      "execution_count": 4,
      "outputs": [
        {
          "output_type": "stream",
          "name": "stdout",
          "text": [
            "[['age:7', 'workclass: State-gov', 'education: Bachelors', 'marital-status: Never-married', 'occupation: Adm-clerical', 'race: White', 'sex: Male', 'hours-per-week:4', 'native-country: United-States', 'income:0'], ['age:10', 'workclass: Self-emp-not-inc', 'education: Bachelors', 'marital-status: Married-civ-spouse', 'occupation: Exec-managerial', 'race: White', 'sex: Male', 'hours-per-week:1', 'native-country: United-States', 'income:0'], ['age:7', 'workclass: Private', 'education: HS-grad', 'marital-status: Divorced', 'occupation: Handlers-cleaners', 'race: White', 'sex: Male', 'hours-per-week:4', 'native-country: United-States', 'income:0'], ['age:10', 'workclass: Private', 'education: 11th', 'marital-status: Married-civ-spouse', 'occupation: Handlers-cleaners', 'race: Black', 'sex: Male', 'hours-per-week:4', 'native-country: United-States', 'income:0'], ['age:5', 'workclass: Private', 'education: Bachelors', 'marital-status: Married-civ-spouse', 'occupation: Prof-specialty', 'race: Black', 'sex: Female', 'hours-per-week:4', 'native-country: Cuba', 'income:0'], ['age:7', 'workclass: Private', 'education: Masters', 'marital-status: Married-civ-spouse', 'occupation: Exec-managerial', 'race: White', 'sex: Female', 'hours-per-week:4', 'native-country: United-States', 'income:0'], ['age:9', 'workclass: Private', 'education: 9th', 'marital-status: Married-spouse-absent', 'occupation: Other-service', 'race: Black', 'sex: Female', 'hours-per-week:1', 'native-country: Jamaica', 'income:0'], ['age:10', 'workclass: Self-emp-not-inc', 'education: HS-grad', 'marital-status: Married-civ-spouse', 'occupation: Exec-managerial', 'race: White', 'sex: Male', 'hours-per-week:4', 'native-country: United-States', 'income:1'], ['age:6', 'workclass: Private', 'education: Masters', 'marital-status: Never-married', 'occupation: Prof-specialty', 'race: White', 'sex: Female', 'hours-per-week:5', 'native-country: United-States', 'income:1'], ['age:8', 'workclass: Private', 'education: Bachelors', 'marital-status: Married-civ-spouse', 'occupation: Exec-managerial', 'race: White', 'sex: Male', 'hours-per-week:4', 'native-country: United-States', 'income:1']]\n"
          ]
        }
      ]
    },
    {
      "cell_type": "code",
      "metadata": {
        "colab": {
          "base_uri": "https://localhost:8080/",
          "height": 593
        },
        "id": "rjOX5aN6BE4h",
        "outputId": "435f767f-9a65-4478-c672-9d55774c9f8a"
      },
      "source": [
        "rules = apriori(transactions = dataList, min_support = 0.02, min_confidence = 0.2, min_lift = 3, min_length = 3, max_length = 3)\n",
        "print(rules)\n",
        "results = list(rules)\n",
        "results\n",
        "\n",
        "def inspect(results):\n",
        "    lhs         = [tuple(result[2][0][0]) for result in results]\n",
        "    rhs         = [tuple(result[2][0][1]) for result in results]\n",
        "    supports    = [result[1] for result in results]\n",
        "    confidences = [result[2][0][2] for result in results]\n",
        "    lifts       = [result[2][0][3] for result in results]\n",
        "    return list(zip(lhs, rhs, supports, confidences, lifts))\n",
        "resultsinDataFrame = pd.DataFrame(inspect(results), columns = ['Left Hand Side', 'Right Hand Side', 'Support', 'Confidence', 'Lift'])\n",
        "resultsinDataFrame"
      ],
      "execution_count": 5,
      "outputs": [
        {
          "output_type": "stream",
          "name": "stdout",
          "text": [
            "<generator object apriori at 0x7f962404add0>\n"
          ]
        },
        {
          "output_type": "execute_result",
          "data": {
            "text/html": [
              "<div>\n",
              "<style scoped>\n",
              "    .dataframe tbody tr th:only-of-type {\n",
              "        vertical-align: middle;\n",
              "    }\n",
              "\n",
              "    .dataframe tbody tr th {\n",
              "        vertical-align: top;\n",
              "    }\n",
              "\n",
              "    .dataframe thead th {\n",
              "        text-align: right;\n",
              "    }\n",
              "</style>\n",
              "<table border=\"1\" class=\"dataframe\">\n",
              "  <thead>\n",
              "    <tr style=\"text-align: right;\">\n",
              "      <th></th>\n",
              "      <th>Left Hand Side</th>\n",
              "      <th>Right Hand Side</th>\n",
              "      <th>Support</th>\n",
              "      <th>Confidence</th>\n",
              "      <th>Lift</th>\n",
              "    </tr>\n",
              "  </thead>\n",
              "  <tbody>\n",
              "    <tr>\n",
              "      <th>0</th>\n",
              "      <td>(education: Masters,)</td>\n",
              "      <td>(occupation: Prof-specialty,)</td>\n",
              "      <td>0.025921</td>\n",
              "      <td>0.489843</td>\n",
              "      <td>3.852606</td>\n",
              "    </tr>\n",
              "    <tr>\n",
              "      <th>1</th>\n",
              "      <td>(occupation: ?,)</td>\n",
              "      <td>(workclass: ?,)</td>\n",
              "      <td>0.056386</td>\n",
              "      <td>0.996202</td>\n",
              "      <td>17.667390</td>\n",
              "    </tr>\n",
              "    <tr>\n",
              "      <th>2</th>\n",
              "      <td>(age:3,)</td>\n",
              "      <td>(income:0, marital-status: Never-married)</td>\n",
              "      <td>0.049507</td>\n",
              "      <td>0.972842</td>\n",
              "      <td>3.107999</td>\n",
              "    </tr>\n",
              "    <tr>\n",
              "      <th>3</th>\n",
              "      <td>(age:3,)</td>\n",
              "      <td>(native-country: United-States, marital-status...</td>\n",
              "      <td>0.046589</td>\n",
              "      <td>0.915510</td>\n",
              "      <td>3.112007</td>\n",
              "    </tr>\n",
              "    <tr>\n",
              "      <th>4</th>\n",
              "      <td>(age:3,)</td>\n",
              "      <td>(race: White, marital-status: Never-married)</td>\n",
              "      <td>0.043703</td>\n",
              "      <td>0.858781</td>\n",
              "      <td>3.193190</td>\n",
              "    </tr>\n",
              "    <tr>\n",
              "      <th>5</th>\n",
              "      <td>(age:3,)</td>\n",
              "      <td>(sex: Female, marital-status: Never-married)</td>\n",
              "      <td>0.024016</td>\n",
              "      <td>0.471937</td>\n",
              "      <td>3.223568</td>\n",
              "    </tr>\n",
              "    <tr>\n",
              "      <th>6</th>\n",
              "      <td>(age:4,)</td>\n",
              "      <td>(education: Some-college, marital-status: Neve...</td>\n",
              "      <td>0.043058</td>\n",
              "      <td>0.358293</td>\n",
              "      <td>3.977625</td>\n",
              "    </tr>\n",
              "    <tr>\n",
              "      <th>7</th>\n",
              "      <td>(marital-status: Married-civ-spouse, education...</td>\n",
              "      <td>(income:1,)</td>\n",
              "      <td>0.023771</td>\n",
              "      <td>0.771685</td>\n",
              "      <td>3.204545</td>\n",
              "    </tr>\n",
              "    <tr>\n",
              "      <th>8</th>\n",
              "      <td>(education: Masters,)</td>\n",
              "      <td>(occupation: Prof-specialty, native-country: U...</td>\n",
              "      <td>0.022972</td>\n",
              "      <td>0.434127</td>\n",
              "      <td>3.827672</td>\n",
              "    </tr>\n",
              "    <tr>\n",
              "      <th>9</th>\n",
              "      <td>(education: Masters,)</td>\n",
              "      <td>(occupation: Prof-specialty, race: White)</td>\n",
              "      <td>0.023034</td>\n",
              "      <td>0.435287</td>\n",
              "      <td>3.882057</td>\n",
              "    </tr>\n",
              "    <tr>\n",
              "      <th>10</th>\n",
              "      <td>(occupation: ?,)</td>\n",
              "      <td>(hours-per-week:4, workclass: ?)</td>\n",
              "      <td>0.023034</td>\n",
              "      <td>0.406945</td>\n",
              "      <td>17.667390</td>\n",
              "    </tr>\n",
              "    <tr>\n",
              "      <th>11</th>\n",
              "      <td>(occupation: ?,)</td>\n",
              "      <td>(income:0, workclass: ?)</td>\n",
              "      <td>0.050521</td>\n",
              "      <td>0.892566</td>\n",
              "      <td>17.667390</td>\n",
              "    </tr>\n",
              "    <tr>\n",
              "      <th>12</th>\n",
              "      <td>(occupation: ?,)</td>\n",
              "      <td>(marital-status: Never-married, workclass: ?)</td>\n",
              "      <td>0.023525</td>\n",
              "      <td>0.415627</td>\n",
              "      <td>17.667390</td>\n",
              "    </tr>\n",
              "    <tr>\n",
              "      <th>13</th>\n",
              "      <td>(occupation: ?,)</td>\n",
              "      <td>(native-country: United-States, workclass: ?)</td>\n",
              "      <td>0.050951</td>\n",
              "      <td>0.900163</td>\n",
              "      <td>17.667390</td>\n",
              "    </tr>\n",
              "    <tr>\n",
              "      <th>14</th>\n",
              "      <td>(occupation: ?,)</td>\n",
              "      <td>(race: White, workclass: ?)</td>\n",
              "      <td>0.046374</td>\n",
              "      <td>0.819316</td>\n",
              "      <td>17.667390</td>\n",
              "    </tr>\n",
              "    <tr>\n",
              "      <th>15</th>\n",
              "      <td>(occupation: ?,)</td>\n",
              "      <td>(sex: Female, workclass: ?)</td>\n",
              "      <td>0.025767</td>\n",
              "      <td>0.455236</td>\n",
              "      <td>17.667390</td>\n",
              "    </tr>\n",
              "    <tr>\n",
              "      <th>16</th>\n",
              "      <td>(occupation: ?,)</td>\n",
              "      <td>(sex: Male, workclass: ?)</td>\n",
              "      <td>0.030619</td>\n",
              "      <td>0.540966</td>\n",
              "      <td>17.667390</td>\n",
              "    </tr>\n",
              "  </tbody>\n",
              "</table>\n",
              "</div>"
            ],
            "text/plain": [
              "                                       Left Hand Side  ...       Lift\n",
              "0                               (education: Masters,)  ...   3.852606\n",
              "1                                    (occupation: ?,)  ...  17.667390\n",
              "2                                            (age:3,)  ...   3.107999\n",
              "3                                            (age:3,)  ...   3.112007\n",
              "4                                            (age:3,)  ...   3.193190\n",
              "5                                            (age:3,)  ...   3.223568\n",
              "6                                            (age:4,)  ...   3.977625\n",
              "7   (marital-status: Married-civ-spouse, education...  ...   3.204545\n",
              "8                               (education: Masters,)  ...   3.827672\n",
              "9                               (education: Masters,)  ...   3.882057\n",
              "10                                   (occupation: ?,)  ...  17.667390\n",
              "11                                   (occupation: ?,)  ...  17.667390\n",
              "12                                   (occupation: ?,)  ...  17.667390\n",
              "13                                   (occupation: ?,)  ...  17.667390\n",
              "14                                   (occupation: ?,)  ...  17.667390\n",
              "15                                   (occupation: ?,)  ...  17.667390\n",
              "16                                   (occupation: ?,)  ...  17.667390\n",
              "\n",
              "[17 rows x 5 columns]"
            ]
          },
          "metadata": {},
          "execution_count": 5
        }
      ]
    }
  ]
}