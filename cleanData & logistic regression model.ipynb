{
 "cells": [
  {
   "cell_type": "code",
   "execution_count": 8,
   "metadata": {},
   "outputs": [],
   "source": [
    "import pandas as pd\n",
    "import numpy as np\n",
    "# reading csv files\n",
    "colTitles = ['age','workclass','fnlwgt','education','education-num','marital-status','occupation','relationship',\n",
    "             'race','sex','capital-gain','capital-loss','hours-per-week','native-country','income']\n",
    "data = pd.read_csv('adult.data', sep=\",\",names=colTitles)\n",
    "data = data.drop(columns=['fnlwgt','education-num','relationship','capital-gain','capital-loss'])\n",
    "\n",
    "rows = data.shape[0]\n",
    "for row in range(rows):\n",
    "    # # age: 5 years per class\n",
    "    # data.iloc[row,0] = data.iloc[row,0]//5\n",
    "    # # hours-per-week: 10 hrs per class\n",
    "    # data.iloc[row,7] = data.iloc[row,7]//10\n",
    "    # # income: 1: >50k, 0:<= 50k\n",
    "    if data.iloc[row,9] == ' <=50K':\n",
    "        data.iloc[row,9] = 0\n",
    "    else:\n",
    "        data.iloc[row,9] = 1"
   ]
  },
  {
   "cell_type": "code",
   "execution_count": 9,
   "metadata": {},
   "outputs": [
    {
     "name": "stdout",
     "output_type": "stream",
     "text": [
      "       age         workclass   education      marital-status  \\\n",
      "0       39         State-gov   Bachelors       Never-married   \n",
      "1       50  Self-emp-not-inc   Bachelors  Married-civ-spouse   \n",
      "2       38           Private     HS-grad            Divorced   \n",
      "3       53           Private        11th  Married-civ-spouse   \n",
      "4       28           Private   Bachelors  Married-civ-spouse   \n",
      "...    ...               ...         ...                 ...   \n",
      "32556   27           Private  Assoc-acdm  Married-civ-spouse   \n",
      "32557   40           Private     HS-grad  Married-civ-spouse   \n",
      "32558   58           Private     HS-grad             Widowed   \n",
      "32559   22           Private     HS-grad       Never-married   \n",
      "32560   52      Self-emp-inc     HS-grad  Married-civ-spouse   \n",
      "\n",
      "              occupation   race     sex  hours-per-week native-country income  \n",
      "0           Adm-clerical  White    Male              40  United-States      0  \n",
      "1        Exec-managerial  White    Male              13  United-States      0  \n",
      "2      Handlers-cleaners  White    Male              40  United-States      0  \n",
      "3      Handlers-cleaners  Black    Male              40  United-States      0  \n",
      "4         Prof-specialty  Black  Female              40           Cuba      0  \n",
      "...                  ...    ...     ...             ...            ...    ...  \n",
      "32556       Tech-support  White  Female              38  United-States      0  \n",
      "32557  Machine-op-inspct  White    Male              40  United-States      1  \n",
      "32558       Adm-clerical  White  Female              40  United-States      0  \n",
      "32559       Adm-clerical  White    Male              20  United-States      0  \n",
      "32560    Exec-managerial  White  Female              40  United-States      1  \n",
      "\n",
      "[30162 rows x 10 columns]\n"
     ]
    }
   ],
   "source": [
    "# remove all spaces and remove rows that contains ?\n",
    "for i in range(10):\n",
    "    if i not in [0,7,9]:\n",
    "        data.iloc[:,i] = data.iloc[:,i].str.strip()\n",
    "    data = data[data.iloc[:,i] != '?']\n",
    "print(data)"
   ]
  },
  {
   "cell_type": "code",
   "execution_count": 10,
   "metadata": {},
   "outputs": [
    {
     "name": "stdout",
     "output_type": "stream",
     "text": [
      "[[ 0.    0.    0.   ...  0.    0.04 -0.08]\n",
      " [ 0.    0.    0.   ...  0.    0.88 -2.33]\n",
      " [ 0.    0.    1.   ...  0.   -0.03 -0.08]\n",
      " ...\n",
      " [ 0.    0.    1.   ...  0.    1.49 -0.08]\n",
      " [ 0.    0.    1.   ...  0.   -1.25 -1.75]\n",
      " [ 0.    0.    0.   ...  0.    1.03 -0.08]]\n"
     ]
    }
   ],
   "source": [
    "# classification\n",
    "from sklearn.model_selection import train_test_split\n",
    "from sklearn.preprocessing import StandardScaler\n",
    "from sklearn.compose import ColumnTransformer\n",
    "from sklearn.preprocessing import OneHotEncoder\n",
    "X = data.iloc[:,:-1].values\n",
    "y = data.iloc[:,-1].values\n",
    "sc = StandardScaler()\n",
    "X[:,0:1] = sc.fit_transform(X[:,0:1])\n",
    "X[:,7:8] = sc.fit_transform(X[:,7:8])\n",
    "\n",
    "# One Hot encoding categorical data\n",
    "ct = ColumnTransformer(transformers=[('encoder', OneHotEncoder(), [1,2,3,4,5,6,8])], remainder='passthrough')\n",
    "X = ct.fit_transform(X).toarray()\n",
    "print(X)\n",
    "X_train, X_test, y_train, y_test = train_test_split(X, y, test_size = 0.25, random_state = 0)"
   ]
  },
  {
   "cell_type": "code",
   "execution_count": 11,
   "metadata": {},
   "outputs": [
    {
     "data": {
      "text/plain": [
       "LogisticRegression(max_iter=1000, random_state=0)"
      ]
     },
     "execution_count": 11,
     "metadata": {},
     "output_type": "execute_result"
    }
   ],
   "source": [
    "# Training the Logistic Regression model on the Training set\n",
    "y_train = y_train.astype('int')\n",
    "y_test = y_test.astype('int')\n",
    "from sklearn.linear_model import LogisticRegression\n",
    "classifier = LogisticRegression(random_state=0, max_iter=1000)\n",
    "classifier.fit(X_train, y_train)"
   ]
  },
  {
   "cell_type": "code",
   "execution_count": 12,
   "metadata": {},
   "outputs": [
    {
     "name": "stdout",
     "output_type": "stream",
     "text": [
      "[[0 0]\n",
      " [0 0]\n",
      " [0 0]\n",
      " ...\n",
      " [1 0]\n",
      " [0 0]\n",
      " [0 0]]\n"
     ]
    }
   ],
   "source": [
    "# Predicting the Test set results\n",
    "y_predict = classifier.predict(X_test)\n",
    "np.set_printoptions(precision=2)\n",
    "compare = np.concatenate((y_test.reshape(len(y_test),1), y_predict.reshape(len(y_predict),1)),1)\n",
    "print(compare)"
   ]
  },
  {
   "cell_type": "code",
   "execution_count": 13,
   "metadata": {},
   "outputs": [
    {
     "name": "stdout",
     "output_type": "stream",
     "text": [
      "class 0, class 1\n",
      "[[5165  474]\n",
      " [ 850 1052]]\n",
      "accuracy_score =  0.8244264686381116\n"
     ]
    }
   ],
   "source": [
    "# Making the Confusion Matrix\n",
    "from sklearn.metrics import confusion_matrix, accuracy_score\n",
    "cm = confusion_matrix(y_test, y_predict)\n",
    "print('class 0, class 1')\n",
    "print(cm)\n",
    "score = accuracy_score(y_test, y_predict)\n",
    "print('accuracy_score = ', score)"
   ]
  },
  {
   "cell_type": "code",
   "execution_count": null,
   "metadata": {},
   "outputs": [],
   "source": []
  }
 ],
 "metadata": {
  "kernelspec": {
   "display_name": "Python 3",
   "language": "python",
   "name": "python3"
  },
  "language_info": {
   "codemirror_mode": {
    "name": "ipython",
    "version": 3
   },
   "file_extension": ".py",
   "mimetype": "text/x-python",
   "name": "python",
   "nbconvert_exporter": "python",
   "pygments_lexer": "ipython3",
   "version": "3.8.5"
  }
 },
 "nbformat": 4,
 "nbformat_minor": 4
}
