{
  "nbformat": 4,
  "nbformat_minor": 0,
  "metadata": {
    "colab": {
      "name": "676project.ipynb",
      "provenance": [],
      "collapsed_sections": []
    },
    "kernelspec": {
      "name": "python3",
      "display_name": "Python 3"
    },
    "language_info": {
      "name": "python"
    }
  },
  "cells": [
    {
      "cell_type": "code",
      "metadata": {
        "colab": {
          "base_uri": "https://localhost:8080/"
        },
        "id": "dwDZPTOuDDD7",
        "outputId": "87c13842-5425-4c91-f3e0-3aafa0c65abc"
      },
      "source": [
        "import pandas as pd\n",
        "# reading csv files\n",
        "colTitles = ['age','workclass','fnlwgt','education','education-num'\\\n",
        "             ,'marital-status','occupation','relationship','race','sex'\\\n",
        "             ,'capital-gain','capital-loss','hours-per-week','native-country','income']\n",
        "data =  pd.read_csv('adult.data', sep=\",\",names=colTitles)\n",
        "print(data)"
      ],
      "execution_count": 40,
      "outputs": [
        {
          "output_type": "stream",
          "name": "stdout",
          "text": [
            "       age          workclass  fnlwgt  ... hours-per-week  native-country  income\n",
            "0       39          State-gov   77516  ...             40   United-States   <=50K\n",
            "1       50   Self-emp-not-inc   83311  ...             13   United-States   <=50K\n",
            "2       38            Private  215646  ...             40   United-States   <=50K\n",
            "3       53            Private  234721  ...             40   United-States   <=50K\n",
            "4       28            Private  338409  ...             40            Cuba   <=50K\n",
            "...    ...                ...     ...  ...            ...             ...     ...\n",
            "32556   27            Private  257302  ...             38   United-States   <=50K\n",
            "32557   40            Private  154374  ...             40   United-States    >50K\n",
            "32558   58            Private  151910  ...             40   United-States   <=50K\n",
            "32559   22            Private  201490  ...             20   United-States   <=50K\n",
            "32560   52       Self-emp-inc  287927  ...             40   United-States    >50K\n",
            "\n",
            "[32561 rows x 15 columns]\n"
          ]
        }
      ]
    },
    {
      "cell_type": "code",
      "metadata": {
        "colab": {
          "base_uri": "https://localhost:8080/"
        },
        "id": "ibGL5nNUDnun",
        "outputId": "65439052-d8a1-4ebc-bbe5-cefae748bbb5"
      },
      "source": [
        "rows = data.shape[0]\n",
        "for row in range(rows):\n",
        "  # age: 5 years per class\n",
        "  data.iloc[row,0] = data.iloc[row,0]//5\n",
        "  # education-num: 3 years per class\n",
        "  data.iloc[row,4] = data.iloc[row,4]//3\n",
        "  # capital-gain: 1000 per class\n",
        "  data.iloc[row,10] = data.iloc[row,10]//1000\n",
        "  # capital-loss: 1000 per class\n",
        "  data.iloc[row,11] = data.iloc[row,11]//1000\n",
        "  # hours-per-week: 10 hrs per class\n",
        "  data.iloc[row,12] = data.iloc[row,12]//10\n",
        "  # income: 1: >50k, 0:<= 50k\n",
        "  if data.iloc[row,14] == '<=50K':\n",
        "    data.iloc[row,14] = 0\n",
        "  else:\n",
        "    data.iloc[row,14] = 1\n",
        "print(data)"
      ],
      "execution_count": 41,
      "outputs": [
        {
          "output_type": "stream",
          "name": "stdout",
          "text": [
            "       age          workclass  fnlwgt  ... hours-per-week  native-country income\n",
            "0        7          State-gov   77516  ...              4   United-States      1\n",
            "1       10   Self-emp-not-inc   83311  ...              1   United-States      1\n",
            "2        7            Private  215646  ...              4   United-States      1\n",
            "3       10            Private  234721  ...              4   United-States      1\n",
            "4        5            Private  338409  ...              4            Cuba      1\n",
            "...    ...                ...     ...  ...            ...             ...    ...\n",
            "32556    5            Private  257302  ...              3   United-States      1\n",
            "32557    8            Private  154374  ...              4   United-States      1\n",
            "32558   11            Private  151910  ...              4   United-States      1\n",
            "32559    4            Private  201490  ...              2   United-States      1\n",
            "32560   10       Self-emp-inc  287927  ...              4   United-States      1\n",
            "\n",
            "[32561 rows x 15 columns]\n"
          ]
        }
      ]
    },
    {
      "cell_type": "code",
      "metadata": {
        "id": "-erxktJvU3HS"
      },
      "source": [
        ""
      ],
      "execution_count": null,
      "outputs": []
    }
  ]
}