{
  "nbformat": 4,
  "nbformat_minor": 0,
  "metadata": {
    "colab": {
      "name": "676project.ipynb",
      "provenance": [],
      "collapsed_sections": []
    },
    "kernelspec": {
      "name": "python3",
      "display_name": "Python 3"
    },
    "language_info": {
      "name": "python"
    }
  },
  "cells": [
    {
      "cell_type": "code",
      "metadata": {
        "colab": {
          "base_uri": "https://localhost:8080/"
        },
        "id": "dwDZPTOuDDD7",
        "outputId": "71991737-6781-4ece-c98f-e5d1b3e3c68e"
      },
      "source": [
        "import pandas as pd\n",
        "# reading csv files\n",
        "colTitles = ['age','workclass','fnlwgt','education','education-num'\\\n",
        "             ,'marital-status','occupation','relationship','race','sex'\\\n",
        "             ,'capital-gain','capital-loss','hours-per-week','native-country','income']\n",
        "data =  pd.read_csv('adult.data', sep=\",\",names=colTitles)\n",
        "data = data.drop(columns=['fnlwgt','capital-gain','capital-loss'])\n",
        "print(data)"
      ],
      "execution_count": 47,
      "outputs": [
        {
          "output_type": "stream",
          "name": "stdout",
          "text": [
            "       age          workclass  ...  native-country  income\n",
            "0       39          State-gov  ...   United-States   <=50K\n",
            "1       50   Self-emp-not-inc  ...   United-States   <=50K\n",
            "2       38            Private  ...   United-States   <=50K\n",
            "3       53            Private  ...   United-States   <=50K\n",
            "4       28            Private  ...            Cuba   <=50K\n",
            "...    ...                ...  ...             ...     ...\n",
            "32556   27            Private  ...   United-States   <=50K\n",
            "32557   40            Private  ...   United-States    >50K\n",
            "32558   58            Private  ...   United-States   <=50K\n",
            "32559   22            Private  ...   United-States   <=50K\n",
            "32560   52       Self-emp-inc  ...   United-States    >50K\n",
            "\n",
            "[32561 rows x 12 columns]\n"
          ]
        }
      ]
    },
    {
      "cell_type": "code",
      "metadata": {
        "colab": {
          "base_uri": "https://localhost:8080/"
        },
        "id": "ibGL5nNUDnun",
        "outputId": "19df7b11-27e2-464f-a8d0-6b1d171ec007"
      },
      "source": [
        "rows = data.shape[0]\n",
        "for row in range(rows):\n",
        "  # age: 5 years per class\n",
        "  data.iloc[row,0] = data.iloc[row,0]//5\n",
        "  # education-num: 3 years per class\n",
        "  data.iloc[row,3] = data.iloc[row,3]//3\n",
        "  # hours-per-week: 10 hrs per class\n",
        "  data.iloc[row,9] = data.iloc[row,9]//10\n",
        "  # income: 1: >50k, 0:<= 50k\n",
        "  if data.iloc[row,11] == '<=50K':\n",
        "    data.iloc[row,11] = 0\n",
        "  else:\n",
        "    data.iloc[row,11] = 1\n",
        "print(data)"
      ],
      "execution_count": 49,
      "outputs": [
        {
          "output_type": "stream",
          "name": "stdout",
          "text": [
            "       age          workclass  ...  native-country  income\n",
            "0        1          State-gov  ...   United-States       1\n",
            "1       10   Self-emp-not-inc  ...   United-States       1\n",
            "2        7            Private  ...   United-States       1\n",
            "3       10            Private  ...   United-States       1\n",
            "4        5            Private  ...            Cuba       1\n",
            "...    ...                ...  ...             ...     ...\n",
            "32556    5            Private  ...   United-States       1\n",
            "32557    8            Private  ...   United-States       1\n",
            "32558   11            Private  ...   United-States       1\n",
            "32559    4            Private  ...   United-States       1\n",
            "32560   10       Self-emp-inc  ...   United-States       1\n",
            "\n",
            "[32561 rows x 12 columns]\n"
          ]
        }
      ]
    },
    {
      "cell_type": "code",
      "metadata": {
        "id": "-erxktJvU3HS"
      },
      "source": [
        ""
      ],
      "execution_count": null,
      "outputs": []
    }
  ]
}