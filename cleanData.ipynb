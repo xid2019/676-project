{
  "nbformat": 4,
  "nbformat_minor": 0,
  "metadata": {
    "colab": {
      "name": "cleanData.ipynb",
      "provenance": [],
      "collapsed_sections": []
    },
    "kernelspec": {
      "name": "python3",
      "display_name": "Python 3"
    },
    "language_info": {
      "name": "python"
    }
  },
  "cells": [
    {
      "cell_type": "code",
      "metadata": {
        "colab": {
          "base_uri": "https://localhost:8080/"
        },
        "id": "dwDZPTOuDDD7",
        "outputId": "b27d10db-be50-4b38-f49d-ca0a943795fe"
      },
      "source": [
        "import pandas as pd\n",
        "# reading csv files\n",
        "colTitles = ['age','workclass','fnlwgt','education','education-num'\\\n",
        "             ,'marital-status','occupation','relationship','race','sex'\\\n",
        "             ,'capital-gain','capital-loss','hours-per-week','native-country','income']\n",
        "data =  pd.read_csv('adult.data', sep=\",\",names=colTitles)\n",
        "data = data.drop(columns=['fnlwgt','education-num','relationship','capital-gain','capital-loss'])\n",
        "print(data)"
      ],
      "execution_count": 13,
      "outputs": [
        {
          "output_type": "stream",
          "name": "stdout",
          "text": [
            "       age          workclass  ...  native-country  income\n",
            "0       39          State-gov  ...   United-States   <=50K\n",
            "1       50   Self-emp-not-inc  ...   United-States   <=50K\n",
            "2       38            Private  ...   United-States   <=50K\n",
            "3       53            Private  ...   United-States   <=50K\n",
            "4       28            Private  ...            Cuba   <=50K\n",
            "...    ...                ...  ...             ...     ...\n",
            "32556   27            Private  ...   United-States   <=50K\n",
            "32557   40            Private  ...   United-States    >50K\n",
            "32558   58            Private  ...   United-States   <=50K\n",
            "32559   22            Private  ...   United-States   <=50K\n",
            "32560   52       Self-emp-inc  ...   United-States    >50K\n",
            "\n",
            "[32561 rows x 10 columns]\n"
          ]
        }
      ]
    },
    {
      "cell_type": "code",
      "metadata": {
        "colab": {
          "base_uri": "https://localhost:8080/"
        },
        "id": "ibGL5nNUDnun",
        "outputId": "5a44e7b9-cbfd-4676-a212-52086b63fe79"
      },
      "source": [
        "rows = data.shape[0]\n",
        "for row in range(rows):\n",
        "  # age: 5 years per class\n",
        "  data.iloc[row,0] = data.iloc[row,0]//5\n",
        "  # hours-per-week: 10 hrs per class\n",
        "  data.iloc[row,7] = data.iloc[row,7]//10\n",
        "  # income: 1: >50k, 0:<= 50k\n",
        "  if data.iloc[row,9] == ' <=50K':\n",
        "    data.iloc[row,9] = 0\n",
        "  else:\n",
        "    data.iloc[row,9] = 1\n",
        "print(data)"
      ],
      "execution_count": 14,
      "outputs": [
        {
          "output_type": "stream",
          "name": "stdout",
          "text": [
            "       age          workclass  ...  native-country income\n",
            "0        7          State-gov  ...   United-States      0\n",
            "1       10   Self-emp-not-inc  ...   United-States      0\n",
            "2        7            Private  ...   United-States      0\n",
            "3       10            Private  ...   United-States      0\n",
            "4        5            Private  ...            Cuba      0\n",
            "...    ...                ...  ...             ...    ...\n",
            "32556    5            Private  ...   United-States      0\n",
            "32557    8            Private  ...   United-States      1\n",
            "32558   11            Private  ...   United-States      0\n",
            "32559    4            Private  ...   United-States      0\n",
            "32560   10       Self-emp-inc  ...   United-States      1\n",
            "\n",
            "[32561 rows x 10 columns]\n"
          ]
        }
      ]
    },
    {
      "cell_type": "code",
      "metadata": {
        "id": "-erxktJvU3HS"
      },
      "source": [
        ""
      ],
      "execution_count": null,
      "outputs": []
    }
  ]
}